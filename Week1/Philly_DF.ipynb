{
 "cells": [
  {
   "cell_type": "code",
   "execution_count": 15,
   "metadata": {},
   "outputs": [],
   "source": [
    "import numpy as np\n",
    "import pandas as pd\n",
    "import matplotlib.pyplot as plt\n",
    "from sklearn.linear_model import LinearRegression"
   ]
  },
  {
   "cell_type": "code",
   "execution_count": 16,
   "metadata": {},
   "outputs": [],
   "source": [
    "data=pd.read_csv(\"Philadelphia_Crime_Rate_noNA.csv\")"
   ]
  },
  {
   "cell_type": "code",
   "execution_count": 17,
   "metadata": {},
   "outputs": [
    {
     "data": {
      "text/html": [
       "<div>\n",
       "<style scoped>\n",
       "    .dataframe tbody tr th:only-of-type {\n",
       "        vertical-align: middle;\n",
       "    }\n",
       "\n",
       "    .dataframe tbody tr th {\n",
       "        vertical-align: top;\n",
       "    }\n",
       "\n",
       "    .dataframe thead th {\n",
       "        text-align: right;\n",
       "    }\n",
       "</style>\n",
       "<table border=\"1\" class=\"dataframe\">\n",
       "  <thead>\n",
       "    <tr style=\"text-align: right;\">\n",
       "      <th></th>\n",
       "      <th>HousePrice</th>\n",
       "      <th>HsPrc ($10,000)</th>\n",
       "      <th>CrimeRate</th>\n",
       "      <th>MilesPhila</th>\n",
       "      <th>PopChg</th>\n",
       "      <th>Name</th>\n",
       "      <th>County</th>\n",
       "    </tr>\n",
       "  </thead>\n",
       "  <tbody>\n",
       "    <tr>\n",
       "      <th>0</th>\n",
       "      <td>140463</td>\n",
       "      <td>14.0463</td>\n",
       "      <td>29.7</td>\n",
       "      <td>10.0</td>\n",
       "      <td>-1.0</td>\n",
       "      <td>Abington</td>\n",
       "      <td>Montgome</td>\n",
       "    </tr>\n",
       "    <tr>\n",
       "      <th>1</th>\n",
       "      <td>113033</td>\n",
       "      <td>11.3033</td>\n",
       "      <td>24.1</td>\n",
       "      <td>18.0</td>\n",
       "      <td>4.0</td>\n",
       "      <td>Ambler</td>\n",
       "      <td>Montgome</td>\n",
       "    </tr>\n",
       "    <tr>\n",
       "      <th>2</th>\n",
       "      <td>124186</td>\n",
       "      <td>12.4186</td>\n",
       "      <td>19.5</td>\n",
       "      <td>25.0</td>\n",
       "      <td>8.0</td>\n",
       "      <td>Aston</td>\n",
       "      <td>Delaware</td>\n",
       "    </tr>\n",
       "    <tr>\n",
       "      <th>3</th>\n",
       "      <td>110490</td>\n",
       "      <td>11.0490</td>\n",
       "      <td>49.4</td>\n",
       "      <td>25.0</td>\n",
       "      <td>2.7</td>\n",
       "      <td>Bensalem</td>\n",
       "      <td>Bucks</td>\n",
       "    </tr>\n",
       "    <tr>\n",
       "      <th>4</th>\n",
       "      <td>79124</td>\n",
       "      <td>7.9124</td>\n",
       "      <td>54.1</td>\n",
       "      <td>19.0</td>\n",
       "      <td>3.9</td>\n",
       "      <td>Bristol B.</td>\n",
       "      <td>Bucks</td>\n",
       "    </tr>\n",
       "    <tr>\n",
       "      <th>...</th>\n",
       "      <td>...</td>\n",
       "      <td>...</td>\n",
       "      <td>...</td>\n",
       "      <td>...</td>\n",
       "      <td>...</td>\n",
       "      <td>...</td>\n",
       "      <td>...</td>\n",
       "    </tr>\n",
       "    <tr>\n",
       "      <th>94</th>\n",
       "      <td>174232</td>\n",
       "      <td>17.4232</td>\n",
       "      <td>13.8</td>\n",
       "      <td>25.0</td>\n",
       "      <td>4.7</td>\n",
       "      <td>Westtown</td>\n",
       "      <td>Chester</td>\n",
       "    </tr>\n",
       "    <tr>\n",
       "      <th>95</th>\n",
       "      <td>196515</td>\n",
       "      <td>19.6515</td>\n",
       "      <td>29.9</td>\n",
       "      <td>16.0</td>\n",
       "      <td>1.8</td>\n",
       "      <td>Whitemarsh</td>\n",
       "      <td>Montgome</td>\n",
       "    </tr>\n",
       "    <tr>\n",
       "      <th>96</th>\n",
       "      <td>232714</td>\n",
       "      <td>23.2714</td>\n",
       "      <td>9.9</td>\n",
       "      <td>21.0</td>\n",
       "      <td>0.2</td>\n",
       "      <td>Willistown</td>\n",
       "      <td>Chester</td>\n",
       "    </tr>\n",
       "    <tr>\n",
       "      <th>97</th>\n",
       "      <td>245920</td>\n",
       "      <td>24.5920</td>\n",
       "      <td>22.6</td>\n",
       "      <td>10.0</td>\n",
       "      <td>0.3</td>\n",
       "      <td>Wynnewood</td>\n",
       "      <td>Montgome</td>\n",
       "    </tr>\n",
       "    <tr>\n",
       "      <th>98</th>\n",
       "      <td>130953</td>\n",
       "      <td>13.0953</td>\n",
       "      <td>13.0</td>\n",
       "      <td>24.0</td>\n",
       "      <td>5.2</td>\n",
       "      <td>Yardley</td>\n",
       "      <td>Bucks</td>\n",
       "    </tr>\n",
       "  </tbody>\n",
       "</table>\n",
       "<p>99 rows × 7 columns</p>\n",
       "</div>"
      ],
      "text/plain": [
       "    HousePrice  HsPrc ($10,000)  CrimeRate  MilesPhila  PopChg        Name  \\\n",
       "0       140463          14.0463       29.7        10.0    -1.0    Abington   \n",
       "1       113033          11.3033       24.1        18.0     4.0      Ambler   \n",
       "2       124186          12.4186       19.5        25.0     8.0       Aston   \n",
       "3       110490          11.0490       49.4        25.0     2.7    Bensalem   \n",
       "4        79124           7.9124       54.1        19.0     3.9  Bristol B.   \n",
       "..         ...              ...        ...         ...     ...         ...   \n",
       "94      174232          17.4232       13.8        25.0     4.7    Westtown   \n",
       "95      196515          19.6515       29.9        16.0     1.8  Whitemarsh   \n",
       "96      232714          23.2714        9.9        21.0     0.2  Willistown   \n",
       "97      245920          24.5920       22.6        10.0     0.3   Wynnewood   \n",
       "98      130953          13.0953       13.0        24.0     5.2     Yardley   \n",
       "\n",
       "      County  \n",
       "0   Montgome  \n",
       "1   Montgome  \n",
       "2   Delaware  \n",
       "3      Bucks  \n",
       "4      Bucks  \n",
       "..       ...  \n",
       "94   Chester  \n",
       "95  Montgome  \n",
       "96   Chester  \n",
       "97  Montgome  \n",
       "98     Bucks  \n",
       "\n",
       "[99 rows x 7 columns]"
      ]
     },
     "execution_count": 17,
     "metadata": {},
     "output_type": "execute_result"
    }
   ],
   "source": [
    "data"
   ]
  },
  {
   "cell_type": "code",
   "execution_count": 27,
   "metadata": {},
   "outputs": [
    {
     "data": {
      "image/png": "[encoded data removed]",
      "text/plain": [
       "<Figure size 864x504 with 1 Axes>"
      ]
     },
     "metadata": {
      "needs_background": "light"
     },
     "output_type": "display_data"
    }
   ],
   "source": [
    "plt.figure(figsize=(12,7))\n",
    "plt.scatter(data[\"CrimeRate\"],data[\"HousePrice\"])\n",
    "plt.show()"
   ]
  },
  {
   "cell_type": "code",
   "execution_count": 28,
   "metadata": {},
   "outputs": [],
   "source": [
    "reg=LinearRegression()"
   ]
  },
  {
   "cell_type": "code",
   "execution_count": 29,
   "metadata": {},
   "outputs": [],
   "source": [
    "X=data.loc[:,\"CrimeRate\"].values\n",
    "Y=data.loc[:,\"HousePrice\"].values"
   ]
  },
  {
   "cell_type": "code",
   "execution_count": 35,
   "metadata": {},
   "outputs": [],
   "source": [
    "from sklearn.model_selection import train_test_split\n",
    "X_train, X_test, y_train, y_test = train_test_split(X, Y, test_size=0.2, random_state=0)"
   ]
  },
  {
   "cell_type": "code",
   "execution_count": 30,
   "metadata": {},
   "outputs": [],
   "source": [
    "X_train=X.reshape(-1,1)\n",
    "Y_train=Y.reshape(-1,1)"
   ]
  },
  {
   "cell_type": "code",
   "execution_count": 31,
   "metadata": {},
   "outputs": [
    {
     "data": {
      "text/plain": [
       "(99, 1)"
      ]
     },
     "execution_count": 31,
     "metadata": {},
     "output_type": "execute_result"
    }
   ],
   "source": [
    "X_train.shape"
   ]
  },
  {
   "cell_type": "code",
   "execution_count": 33,
   "metadata": {},
   "outputs": [],
   "source": [
    "crime_model=reg.fit(X_train,Y_train)"
   ]
  },
  {
   "cell_type": "code",
   "execution_count": 34,
   "metadata": {},
   "outputs": [],
   "source": [
    "fit_line=crime_model.predict(X_train)"
   ]
  },
  {
   "cell_type": "code",
   "execution_count": 38,
   "metadata": {},
   "outputs": [
    {
     "data": {
      "image/png": "[encoded data removed]",
      "text/plain": [
       "<Figure size 864x576 with 1 Axes>"
      ]
     },
     "metadata": {
      "needs_background": "light"
     },
     "output_type": "display_data"
    }
   ],
   "source": [
    "plt.figure(figsize=(12,8))\n",
    "plt.scatter(X_train, Y_train)\n",
    "plt.plot(X_train, fit_line, color='red')\n",
    "plt.show()"
   ]
  },
  {
   "cell_type": "code",
   "execution_count": 39,
   "metadata": {},
   "outputs": [
    {
     "data": {
      "text/html": [
       "<div>\n",
       "<style scoped>\n",
       "    .dataframe tbody tr th:only-of-type {\n",
       "        vertical-align: middle;\n",
       "    }\n",
       "\n",
       "    .dataframe tbody tr th {\n",
       "        vertical-align: top;\n",
       "    }\n",
       "\n",
       "    .dataframe thead th {\n",
       "        text-align: right;\n",
       "    }\n",
       "</style>\n",
       "<table border=\"1\" class=\"dataframe\">\n",
       "  <thead>\n",
       "    <tr style=\"text-align: right;\">\n",
       "      <th></th>\n",
       "      <th>HousePrice</th>\n",
       "      <th>HsPrc ($10,000)</th>\n",
       "      <th>CrimeRate</th>\n",
       "      <th>MilesPhila</th>\n",
       "      <th>PopChg</th>\n",
       "    </tr>\n",
       "  </thead>\n",
       "  <tbody>\n",
       "    <tr>\n",
       "      <th>count</th>\n",
       "      <td>99.000000</td>\n",
       "      <td>99.000000</td>\n",
       "      <td>99.000000</td>\n",
       "      <td>99.000000</td>\n",
       "      <td>98.000000</td>\n",
       "    </tr>\n",
       "    <tr>\n",
       "      <th>mean</th>\n",
       "      <td>157835.606061</td>\n",
       "      <td>15.783561</td>\n",
       "      <td>32.576768</td>\n",
       "      <td>19.282828</td>\n",
       "      <td>2.479592</td>\n",
       "    </tr>\n",
       "    <tr>\n",
       "      <th>std</th>\n",
       "      <td>86644.159973</td>\n",
       "      <td>8.664416</td>\n",
       "      <td>37.540908</td>\n",
       "      <td>9.099552</td>\n",
       "      <td>5.632307</td>\n",
       "    </tr>\n",
       "    <tr>\n",
       "      <th>min</th>\n",
       "      <td>28000.000000</td>\n",
       "      <td>2.800000</td>\n",
       "      <td>6.600000</td>\n",
       "      <td>0.000000</td>\n",
       "      <td>-9.200000</td>\n",
       "    </tr>\n",
       "    <tr>\n",
       "      <th>25%</th>\n",
       "      <td>98505.000000</td>\n",
       "      <td>9.850500</td>\n",
       "      <td>17.400000</td>\n",
       "      <td>13.000000</td>\n",
       "      <td>-0.625000</td>\n",
       "    </tr>\n",
       "    <tr>\n",
       "      <th>50%</th>\n",
       "      <td>140463.000000</td>\n",
       "      <td>14.046300</td>\n",
       "      <td>24.100000</td>\n",
       "      <td>20.000000</td>\n",
       "      <td>1.600000</td>\n",
       "    </tr>\n",
       "    <tr>\n",
       "      <th>75%</th>\n",
       "      <td>195830.000000</td>\n",
       "      <td>19.583000</td>\n",
       "      <td>39.800000</td>\n",
       "      <td>24.500000</td>\n",
       "      <td>4.775000</td>\n",
       "    </tr>\n",
       "    <tr>\n",
       "      <th>max</th>\n",
       "      <td>475112.000000</td>\n",
       "      <td>47.511200</td>\n",
       "      <td>366.100000</td>\n",
       "      <td>50.000000</td>\n",
       "      <td>26.900000</td>\n",
       "    </tr>\n",
       "  </tbody>\n",
       "</table>\n",
       "</div>"
      ],
      "text/plain": [
       "          HousePrice  HsPrc ($10,000)   CrimeRate  MilesPhila     PopChg\n",
       "count      99.000000        99.000000   99.000000   99.000000  98.000000\n",
       "mean   157835.606061        15.783561   32.576768   19.282828   2.479592\n",
       "std     86644.159973         8.664416   37.540908    9.099552   5.632307\n",
       "min     28000.000000         2.800000    6.600000    0.000000  -9.200000\n",
       "25%     98505.000000         9.850500   17.400000   13.000000  -0.625000\n",
       "50%    140463.000000        14.046300   24.100000   20.000000   1.600000\n",
       "75%    195830.000000        19.583000   39.800000   24.500000   4.775000\n",
       "max    475112.000000        47.511200  366.100000   50.000000  26.900000"
      ]
     },
     "execution_count": 39,
     "metadata": {},
     "output_type": "execute_result"
    }
   ],
   "source": [
    "data.describe()"
   ]
  },
  {
   "cell_type": "code",
   "execution_count": null,
   "metadata": {},
   "outputs": [],
   "source": []
  },
  {
   "cell_type": "code",
   "execution_count": 14,
   "metadata": {},
   "outputs": [
    {
     "data": {
      "text/plain": [
       "[<matplotlib.lines.Line2D at 0x7fe78fc75d90>,\n",
       " <matplotlib.lines.Line2D at 0x7fe78fc75eb0>]"
      ]
     },
     "execution_count": 14,
     "metadata": {},
     "output_type": "execute_result"
    },
    {
     "data": {
      "image/png": "[encoded data removed]",
      "text/plain": [
       "<Figure size 432x288 with 1 Axes>"
      ]
     },
     "metadata": {
      "needs_background": "light"
     },
     "output_type": "display_data"
    }
   ],
   "source": [
    "plt.plot(data['CrimeRate'],data['HousePrice'],'.',\n",
    "        data['CrimeRate'],crime_model.predict(data[\"HousePrice\"].values.reshape(-1,1)),'-')"
   ]
  },
  {
   "cell_type": "code",
   "execution_count": null,
   "metadata": {},
   "outputs": [],
   "source": []
  }
 ],
 "metadata": {
  "kernelspec": {
   "display_name": "Python 3",
   "language": "python",
   "name": "python3"
  },
  "language_info": {
   "codemirror_mode": {
    "name": "ipython",
    "version": 3
   },
   "file_extension": ".py",
   "mimetype": "text/x-python",
   "name": "python",
   "nbconvert_exporter": "python",
   "pygments_lexer": "ipython3",
   "version": "3.8.3"
  }
 },
 "nbformat": 4,
 "nbformat_minor": 4
}
