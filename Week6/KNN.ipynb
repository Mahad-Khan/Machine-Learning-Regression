{
 "cells": [
  {
   "cell_type": "code",
   "execution_count": 92,
   "metadata": {},
   "outputs": [],
   "source": [
    "import numpy as np\n",
    "import pandas as pd"
   ]
  },
  {
   "cell_type": "code",
   "execution_count": 93,
   "metadata": {},
   "outputs": [],
   "source": [
    "data=pd.read_csv('kc_house_data_small_train.csv')"
   ]
  },
  {
   "cell_type": "code",
   "execution_count": 94,
   "metadata": {},
   "outputs": [],
   "source": [
    "dtype_dict = {'bathrooms':float, 'waterfront':int, 'sqft_above':int, 'sqft_living15':float, 'grade':int, 'yr_renovated':int, 'price':float, 'bedrooms':float, 'zipcode':str, 'long':float, 'sqft_lot15':float, 'sqft_living':float, 'floors':float, 'condition':int, 'lat':float, 'date':str, 'sqft_basement':int, 'yr_built':int, 'id':str, 'sqft_lot':int, 'view':int}"
   ]
  },
  {
   "cell_type": "code",
   "execution_count": 95,
   "metadata": {},
   "outputs": [
    {
     "name": "stdout",
     "output_type": "stream",
     "text": [
      "<class 'pandas.core.frame.DataFrame'>\n",
      "RangeIndex: 5527 entries, 0 to 5526\n",
      "Data columns (total 21 columns):\n",
      " #   Column         Non-Null Count  Dtype  \n",
      "---  ------         --------------  -----  \n",
      " 0   id             5527 non-null   int64  \n",
      " 1   date           5527 non-null   object \n",
      " 2   price          5527 non-null   int64  \n",
      " 3   bedrooms       5527 non-null   int64  \n",
      " 4   bathrooms      5527 non-null   float64\n",
      " 5   sqft_living    5527 non-null   int64  \n",
      " 6   sqft_lot       5527 non-null   int64  \n",
      " 7   floors         5527 non-null   float64\n",
      " 8   waterfront     5527 non-null   int64  \n",
      " 9   view           5527 non-null   int64  \n",
      " 10  condition      5527 non-null   int64  \n",
      " 11  grade          5527 non-null   int64  \n",
      " 12  sqft_above     5527 non-null   int64  \n",
      " 13  sqft_basement  5527 non-null   int64  \n",
      " 14  yr_built       5527 non-null   int64  \n",
      " 15  yr_renovated   5527 non-null   int64  \n",
      " 16  zipcode        5527 non-null   int64  \n",
      " 17  lat            5527 non-null   float64\n",
      " 18  long           5527 non-null   float64\n",
      " 19  sqft_living15  5527 non-null   int64  \n",
      " 20  sqft_lot15     5527 non-null   int64  \n",
      "dtypes: float64(4), int64(16), object(1)\n",
      "memory usage: 906.9+ KB\n"
     ]
    }
   ],
   "source": [
    "data.info()"
   ]
  },
  {
   "cell_type": "code",
   "execution_count": 96,
   "metadata": {},
   "outputs": [
    {
     "data": {
      "text/html": [
       "<div>\n",
       "<style scoped>\n",
       "    .dataframe tbody tr th:only-of-type {\n",
       "        vertical-align: middle;\n",
       "    }\n",
       "\n",
       "    .dataframe tbody tr th {\n",
       "        vertical-align: top;\n",
       "    }\n",
       "\n",
       "    .dataframe thead th {\n",
       "        text-align: right;\n",
       "    }\n",
       "</style>\n",
       "<table border=\"1\" class=\"dataframe\">\n",
       "  <thead>\n",
       "    <tr style=\"text-align: right;\">\n",
       "      <th></th>\n",
       "      <th>count</th>\n",
       "      <th>mean</th>\n",
       "      <th>std</th>\n",
       "      <th>min</th>\n",
       "      <th>25%</th>\n",
       "      <th>50%</th>\n",
       "      <th>75%</th>\n",
       "      <th>max</th>\n",
       "    </tr>\n",
       "  </thead>\n",
       "  <tbody>\n",
       "    <tr>\n",
       "      <th>id</th>\n",
       "      <td>5527.0</td>\n",
       "      <td>4.570264e+09</td>\n",
       "      <td>2.883188e+09</td>\n",
       "      <td>1.200021e+06</td>\n",
       "      <td>2.112700e+09</td>\n",
       "      <td>3.904100e+09</td>\n",
       "      <td>7.326850e+09</td>\n",
       "      <td>9.900000e+09</td>\n",
       "    </tr>\n",
       "    <tr>\n",
       "      <th>price</th>\n",
       "      <td>5527.0</td>\n",
       "      <td>5.348084e+05</td>\n",
       "      <td>3.560690e+05</td>\n",
       "      <td>8.100000e+04</td>\n",
       "      <td>3.200000e+05</td>\n",
       "      <td>4.480000e+05</td>\n",
       "      <td>6.358500e+05</td>\n",
       "      <td>5.110800e+06</td>\n",
       "    </tr>\n",
       "    <tr>\n",
       "      <th>bedrooms</th>\n",
       "      <td>5527.0</td>\n",
       "      <td>3.351366e+00</td>\n",
       "      <td>8.932982e-01</td>\n",
       "      <td>0.000000e+00</td>\n",
       "      <td>3.000000e+00</td>\n",
       "      <td>3.000000e+00</td>\n",
       "      <td>4.000000e+00</td>\n",
       "      <td>1.100000e+01</td>\n",
       "    </tr>\n",
       "    <tr>\n",
       "      <th>bathrooms</th>\n",
       "      <td>5527.0</td>\n",
       "      <td>2.101185e+00</td>\n",
       "      <td>7.546424e-01</td>\n",
       "      <td>0.000000e+00</td>\n",
       "      <td>1.500000e+00</td>\n",
       "      <td>2.250000e+00</td>\n",
       "      <td>2.500000e+00</td>\n",
       "      <td>5.500000e+00</td>\n",
       "    </tr>\n",
       "    <tr>\n",
       "      <th>sqft_living</th>\n",
       "      <td>5527.0</td>\n",
       "      <td>2.066691e+03</td>\n",
       "      <td>9.036581e+02</td>\n",
       "      <td>3.700000e+02</td>\n",
       "      <td>1.400000e+03</td>\n",
       "      <td>1.900000e+03</td>\n",
       "      <td>2.520000e+03</td>\n",
       "      <td>8.010000e+03</td>\n",
       "    </tr>\n",
       "    <tr>\n",
       "      <th>sqft_lot</th>\n",
       "      <td>5527.0</td>\n",
       "      <td>1.481554e+04</td>\n",
       "      <td>3.919545e+04</td>\n",
       "      <td>5.720000e+02</td>\n",
       "      <td>5.080000e+03</td>\n",
       "      <td>7.680000e+03</td>\n",
       "      <td>1.080000e+04</td>\n",
       "      <td>9.822780e+05</td>\n",
       "    </tr>\n",
       "    <tr>\n",
       "      <th>floors</th>\n",
       "      <td>5527.0</td>\n",
       "      <td>1.482993e+00</td>\n",
       "      <td>5.363887e-01</td>\n",
       "      <td>1.000000e+00</td>\n",
       "      <td>1.000000e+00</td>\n",
       "      <td>1.000000e+00</td>\n",
       "      <td>2.000000e+00</td>\n",
       "      <td>3.500000e+00</td>\n",
       "    </tr>\n",
       "    <tr>\n",
       "      <th>waterfront</th>\n",
       "      <td>5527.0</td>\n",
       "      <td>7.237199e-03</td>\n",
       "      <td>8.477100e-02</td>\n",
       "      <td>0.000000e+00</td>\n",
       "      <td>0.000000e+00</td>\n",
       "      <td>0.000000e+00</td>\n",
       "      <td>0.000000e+00</td>\n",
       "      <td>1.000000e+00</td>\n",
       "    </tr>\n",
       "    <tr>\n",
       "      <th>view</th>\n",
       "      <td>5527.0</td>\n",
       "      <td>2.270671e-01</td>\n",
       "      <td>7.576406e-01</td>\n",
       "      <td>0.000000e+00</td>\n",
       "      <td>0.000000e+00</td>\n",
       "      <td>0.000000e+00</td>\n",
       "      <td>0.000000e+00</td>\n",
       "      <td>4.000000e+00</td>\n",
       "    </tr>\n",
       "    <tr>\n",
       "      <th>condition</th>\n",
       "      <td>5527.0</td>\n",
       "      <td>3.407997e+00</td>\n",
       "      <td>6.483597e-01</td>\n",
       "      <td>1.000000e+00</td>\n",
       "      <td>3.000000e+00</td>\n",
       "      <td>3.000000e+00</td>\n",
       "      <td>4.000000e+00</td>\n",
       "      <td>5.000000e+00</td>\n",
       "    </tr>\n",
       "    <tr>\n",
       "      <th>grade</th>\n",
       "      <td>5527.0</td>\n",
       "      <td>7.647367e+00</td>\n",
       "      <td>1.184998e+00</td>\n",
       "      <td>3.000000e+00</td>\n",
       "      <td>7.000000e+00</td>\n",
       "      <td>7.000000e+00</td>\n",
       "      <td>8.000000e+00</td>\n",
       "      <td>1.300000e+01</td>\n",
       "    </tr>\n",
       "    <tr>\n",
       "      <th>sqft_above</th>\n",
       "      <td>5527.0</td>\n",
       "      <td>1.776241e+03</td>\n",
       "      <td>8.175240e+02</td>\n",
       "      <td>3.700000e+02</td>\n",
       "      <td>1.190000e+03</td>\n",
       "      <td>1.550000e+03</td>\n",
       "      <td>2.190000e+03</td>\n",
       "      <td>6.530000e+03</td>\n",
       "    </tr>\n",
       "    <tr>\n",
       "      <th>sqft_basement</th>\n",
       "      <td>5527.0</td>\n",
       "      <td>2.904500e+02</td>\n",
       "      <td>4.382792e+02</td>\n",
       "      <td>0.000000e+00</td>\n",
       "      <td>0.000000e+00</td>\n",
       "      <td>0.000000e+00</td>\n",
       "      <td>5.500000e+02</td>\n",
       "      <td>3.500000e+03</td>\n",
       "    </tr>\n",
       "    <tr>\n",
       "      <th>yr_built</th>\n",
       "      <td>5527.0</td>\n",
       "      <td>1.971157e+03</td>\n",
       "      <td>2.915645e+01</td>\n",
       "      <td>1.900000e+03</td>\n",
       "      <td>1.952000e+03</td>\n",
       "      <td>1.975000e+03</td>\n",
       "      <td>1.997000e+03</td>\n",
       "      <td>2.015000e+03</td>\n",
       "    </tr>\n",
       "    <tr>\n",
       "      <th>yr_renovated</th>\n",
       "      <td>5527.0</td>\n",
       "      <td>8.124281e+01</td>\n",
       "      <td>3.944265e+02</td>\n",
       "      <td>0.000000e+00</td>\n",
       "      <td>0.000000e+00</td>\n",
       "      <td>0.000000e+00</td>\n",
       "      <td>0.000000e+00</td>\n",
       "      <td>2.015000e+03</td>\n",
       "    </tr>\n",
       "    <tr>\n",
       "      <th>zipcode</th>\n",
       "      <td>5527.0</td>\n",
       "      <td>9.807787e+04</td>\n",
       "      <td>5.330049e+01</td>\n",
       "      <td>9.800100e+04</td>\n",
       "      <td>9.803300e+04</td>\n",
       "      <td>9.806500e+04</td>\n",
       "      <td>9.811700e+04</td>\n",
       "      <td>9.819900e+04</td>\n",
       "    </tr>\n",
       "    <tr>\n",
       "      <th>lat</th>\n",
       "      <td>5527.0</td>\n",
       "      <td>4.756112e+01</td>\n",
       "      <td>1.383054e-01</td>\n",
       "      <td>4.715930e+01</td>\n",
       "      <td>4.747400e+01</td>\n",
       "      <td>4.757180e+01</td>\n",
       "      <td>4.767915e+01</td>\n",
       "      <td>4.777740e+01</td>\n",
       "    </tr>\n",
       "    <tr>\n",
       "      <th>long</th>\n",
       "      <td>5527.0</td>\n",
       "      <td>-1.222096e+02</td>\n",
       "      <td>1.429357e-01</td>\n",
       "      <td>-1.225050e+02</td>\n",
       "      <td>-1.223250e+02</td>\n",
       "      <td>-1.222240e+02</td>\n",
       "      <td>-1.221200e+02</td>\n",
       "      <td>-1.213210e+02</td>\n",
       "    </tr>\n",
       "    <tr>\n",
       "      <th>sqft_living15</th>\n",
       "      <td>5527.0</td>\n",
       "      <td>1.975946e+03</td>\n",
       "      <td>6.873387e+02</td>\n",
       "      <td>7.100000e+02</td>\n",
       "      <td>1.470000e+03</td>\n",
       "      <td>1.820000e+03</td>\n",
       "      <td>2.350000e+03</td>\n",
       "      <td>5.790000e+03</td>\n",
       "    </tr>\n",
       "    <tr>\n",
       "      <th>sqft_lot15</th>\n",
       "      <td>5527.0</td>\n",
       "      <td>1.299826e+04</td>\n",
       "      <td>3.051032e+04</td>\n",
       "      <td>7.480000e+02</td>\n",
       "      <td>5.150000e+03</td>\n",
       "      <td>7.653000e+03</td>\n",
       "      <td>1.018300e+04</td>\n",
       "      <td>8.712000e+05</td>\n",
       "    </tr>\n",
       "  </tbody>\n",
       "</table>\n",
       "</div>"
      ],
      "text/plain": [
       "                count          mean           std           min           25%  \\\n",
       "id             5527.0  4.570264e+09  2.883188e+09  1.200021e+06  2.112700e+09   \n",
       "price          5527.0  5.348084e+05  3.560690e+05  8.100000e+04  3.200000e+05   \n",
       "bedrooms       5527.0  3.351366e+00  8.932982e-01  0.000000e+00  3.000000e+00   \n",
       "bathrooms      5527.0  2.101185e+00  7.546424e-01  0.000000e+00  1.500000e+00   \n",
       "sqft_living    5527.0  2.066691e+03  9.036581e+02  3.700000e+02  1.400000e+03   \n",
       "sqft_lot       5527.0  1.481554e+04  3.919545e+04  5.720000e+02  5.080000e+03   \n",
       "floors         5527.0  1.482993e+00  5.363887e-01  1.000000e+00  1.000000e+00   \n",
       "waterfront     5527.0  7.237199e-03  8.477100e-02  0.000000e+00  0.000000e+00   \n",
       "view           5527.0  2.270671e-01  7.576406e-01  0.000000e+00  0.000000e+00   \n",
       "condition      5527.0  3.407997e+00  6.483597e-01  1.000000e+00  3.000000e+00   \n",
       "grade          5527.0  7.647367e+00  1.184998e+00  3.000000e+00  7.000000e+00   \n",
       "sqft_above     5527.0  1.776241e+03  8.175240e+02  3.700000e+02  1.190000e+03   \n",
       "sqft_basement  5527.0  2.904500e+02  4.382792e+02  0.000000e+00  0.000000e+00   \n",
       "yr_built       5527.0  1.971157e+03  2.915645e+01  1.900000e+03  1.952000e+03   \n",
       "yr_renovated   5527.0  8.124281e+01  3.944265e+02  0.000000e+00  0.000000e+00   \n",
       "zipcode        5527.0  9.807787e+04  5.330049e+01  9.800100e+04  9.803300e+04   \n",
       "lat            5527.0  4.756112e+01  1.383054e-01  4.715930e+01  4.747400e+01   \n",
       "long           5527.0 -1.222096e+02  1.429357e-01 -1.225050e+02 -1.223250e+02   \n",
       "sqft_living15  5527.0  1.975946e+03  6.873387e+02  7.100000e+02  1.470000e+03   \n",
       "sqft_lot15     5527.0  1.299826e+04  3.051032e+04  7.480000e+02  5.150000e+03   \n",
       "\n",
       "                        50%           75%           max  \n",
       "id             3.904100e+09  7.326850e+09  9.900000e+09  \n",
       "price          4.480000e+05  6.358500e+05  5.110800e+06  \n",
       "bedrooms       3.000000e+00  4.000000e+00  1.100000e+01  \n",
       "bathrooms      2.250000e+00  2.500000e+00  5.500000e+00  \n",
       "sqft_living    1.900000e+03  2.520000e+03  8.010000e+03  \n",
       "sqft_lot       7.680000e+03  1.080000e+04  9.822780e+05  \n",
       "floors         1.000000e+00  2.000000e+00  3.500000e+00  \n",
       "waterfront     0.000000e+00  0.000000e+00  1.000000e+00  \n",
       "view           0.000000e+00  0.000000e+00  4.000000e+00  \n",
       "condition      3.000000e+00  4.000000e+00  5.000000e+00  \n",
       "grade          7.000000e+00  8.000000e+00  1.300000e+01  \n",
       "sqft_above     1.550000e+03  2.190000e+03  6.530000e+03  \n",
       "sqft_basement  0.000000e+00  5.500000e+02  3.500000e+03  \n",
       "yr_built       1.975000e+03  1.997000e+03  2.015000e+03  \n",
       "yr_renovated   0.000000e+00  0.000000e+00  2.015000e+03  \n",
       "zipcode        9.806500e+04  9.811700e+04  9.819900e+04  \n",
       "lat            4.757180e+01  4.767915e+01  4.777740e+01  \n",
       "long          -1.222240e+02 -1.221200e+02 -1.213210e+02  \n",
       "sqft_living15  1.820000e+03  2.350000e+03  5.790000e+03  \n",
       "sqft_lot15     7.653000e+03  1.018300e+04  8.712000e+05  "
      ]
     },
     "execution_count": 96,
     "metadata": {},
     "output_type": "execute_result"
    }
   ],
   "source": [
    "data.describe().transpose()"
   ]
  },
  {
   "cell_type": "code",
   "execution_count": 97,
   "metadata": {},
   "outputs": [],
   "source": [
    "train_data=pd.read_csv('kc_house_data_small_train.csv')\n",
    "test_data=pd.read_csv('kc_house_data_small_test.csv')\n",
    "validate_data=pd.read_csv('kc_house_data_validation.csv')"
   ]
  },
  {
   "cell_type": "code",
   "execution_count": null,
   "metadata": {},
   "outputs": [],
   "source": []
  },
  {
   "cell_type": "code",
   "execution_count": 98,
   "metadata": {},
   "outputs": [
    {
     "data": {
      "text/plain": [
       "8703"
      ]
     },
     "execution_count": 98,
     "metadata": {},
     "output_type": "execute_result"
    }
   ],
   "source": [
    "len(validate_data)+len(test_data)+len(train_data)"
   ]
  },
  {
   "cell_type": "code",
   "execution_count": 99,
   "metadata": {},
   "outputs": [],
   "source": [
    "def get_numpy_data(data_frame, features, output):\n",
    "    feature_matrix=data_frame[features]\n",
    "    output_array=data_frame[output]\n",
    "    return (feature_matrix, output_array)"
   ]
  },
  {
   "cell_type": "code",
   "execution_count": 100,
   "metadata": {},
   "outputs": [
    {
     "data": {
      "text/plain": [
       "17"
      ]
     },
     "execution_count": 100,
     "metadata": {},
     "output_type": "execute_result"
    }
   ],
   "source": [
    "\n",
    "feature_list = ['bedrooms',  \n",
    "                'bathrooms',  \n",
    "                'sqft_living',  \n",
    "                'sqft_lot',  \n",
    "                'floors',\n",
    "                'waterfront',  \n",
    "                'view',  \n",
    "                'condition',  \n",
    "                'grade',  \n",
    "                'sqft_above',  \n",
    "                'sqft_basement',\n",
    "                'yr_built',  \n",
    "                'yr_renovated',  \n",
    "                'lat',  \n",
    "                'long',  \n",
    "                'sqft_living15',  \n",
    "                'sqft_lot15']\n",
    "len(feature_list)"
   ]
  },
  {
   "cell_type": "code",
   "execution_count": 101,
   "metadata": {},
   "outputs": [],
   "source": [
    "features_train,output_train=get_numpy_data(train_data,feature_list,['price'])\n",
    "features_test,output_test=get_numpy_data(test_data,feature_list,['price'])\n",
    "features_valid,output_valid=get_numpy_data(validate_data,feature_list,['price'])"
   ]
  },
  {
   "cell_type": "code",
   "execution_count": 102,
   "metadata": {},
   "outputs": [
    {
     "data": {
      "text/html": [
       "<div>\n",
       "<style scoped>\n",
       "    .dataframe tbody tr th:only-of-type {\n",
       "        vertical-align: middle;\n",
       "    }\n",
       "\n",
       "    .dataframe tbody tr th {\n",
       "        vertical-align: top;\n",
       "    }\n",
       "\n",
       "    .dataframe thead th {\n",
       "        text-align: right;\n",
       "    }\n",
       "</style>\n",
       "<table border=\"1\" class=\"dataframe\">\n",
       "  <thead>\n",
       "    <tr style=\"text-align: right;\">\n",
       "      <th></th>\n",
       "      <th>bedrooms</th>\n",
       "      <th>bathrooms</th>\n",
       "      <th>sqft_living</th>\n",
       "      <th>sqft_lot</th>\n",
       "      <th>floors</th>\n",
       "      <th>waterfront</th>\n",
       "      <th>view</th>\n",
       "      <th>condition</th>\n",
       "      <th>grade</th>\n",
       "      <th>sqft_above</th>\n",
       "      <th>sqft_basement</th>\n",
       "      <th>yr_built</th>\n",
       "      <th>yr_renovated</th>\n",
       "      <th>lat</th>\n",
       "      <th>long</th>\n",
       "      <th>sqft_living15</th>\n",
       "      <th>sqft_lot15</th>\n",
       "    </tr>\n",
       "  </thead>\n",
       "  <tbody>\n",
       "    <tr>\n",
       "      <th>0</th>\n",
       "      <td>3</td>\n",
       "      <td>1.00</td>\n",
       "      <td>1180</td>\n",
       "      <td>5650</td>\n",
       "      <td>1.0</td>\n",
       "      <td>0</td>\n",
       "      <td>0</td>\n",
       "      <td>3</td>\n",
       "      <td>7</td>\n",
       "      <td>1180</td>\n",
       "      <td>0</td>\n",
       "      <td>1955</td>\n",
       "      <td>0</td>\n",
       "      <td>47.5112</td>\n",
       "      <td>-122.257</td>\n",
       "      <td>1340</td>\n",
       "      <td>5650</td>\n",
       "    </tr>\n",
       "    <tr>\n",
       "      <th>1</th>\n",
       "      <td>3</td>\n",
       "      <td>2.25</td>\n",
       "      <td>2570</td>\n",
       "      <td>7242</td>\n",
       "      <td>2.0</td>\n",
       "      <td>0</td>\n",
       "      <td>0</td>\n",
       "      <td>3</td>\n",
       "      <td>7</td>\n",
       "      <td>2170</td>\n",
       "      <td>400</td>\n",
       "      <td>1951</td>\n",
       "      <td>1991</td>\n",
       "      <td>47.7210</td>\n",
       "      <td>-122.319</td>\n",
       "      <td>1690</td>\n",
       "      <td>7639</td>\n",
       "    </tr>\n",
       "    <tr>\n",
       "      <th>2</th>\n",
       "      <td>2</td>\n",
       "      <td>1.00</td>\n",
       "      <td>770</td>\n",
       "      <td>10000</td>\n",
       "      <td>1.0</td>\n",
       "      <td>0</td>\n",
       "      <td>0</td>\n",
       "      <td>3</td>\n",
       "      <td>6</td>\n",
       "      <td>770</td>\n",
       "      <td>0</td>\n",
       "      <td>1933</td>\n",
       "      <td>0</td>\n",
       "      <td>47.7379</td>\n",
       "      <td>-122.233</td>\n",
       "      <td>2720</td>\n",
       "      <td>8062</td>\n",
       "    </tr>\n",
       "    <tr>\n",
       "      <th>3</th>\n",
       "      <td>4</td>\n",
       "      <td>3.00</td>\n",
       "      <td>1960</td>\n",
       "      <td>5000</td>\n",
       "      <td>1.0</td>\n",
       "      <td>0</td>\n",
       "      <td>0</td>\n",
       "      <td>5</td>\n",
       "      <td>7</td>\n",
       "      <td>1050</td>\n",
       "      <td>910</td>\n",
       "      <td>1965</td>\n",
       "      <td>0</td>\n",
       "      <td>47.5208</td>\n",
       "      <td>-122.393</td>\n",
       "      <td>1360</td>\n",
       "      <td>5000</td>\n",
       "    </tr>\n",
       "    <tr>\n",
       "      <th>4</th>\n",
       "      <td>3</td>\n",
       "      <td>2.00</td>\n",
       "      <td>1680</td>\n",
       "      <td>8080</td>\n",
       "      <td>1.0</td>\n",
       "      <td>0</td>\n",
       "      <td>0</td>\n",
       "      <td>3</td>\n",
       "      <td>8</td>\n",
       "      <td>1680</td>\n",
       "      <td>0</td>\n",
       "      <td>1987</td>\n",
       "      <td>0</td>\n",
       "      <td>47.6168</td>\n",
       "      <td>-122.045</td>\n",
       "      <td>1800</td>\n",
       "      <td>7503</td>\n",
       "    </tr>\n",
       "    <tr>\n",
       "      <th>...</th>\n",
       "      <td>...</td>\n",
       "      <td>...</td>\n",
       "      <td>...</td>\n",
       "      <td>...</td>\n",
       "      <td>...</td>\n",
       "      <td>...</td>\n",
       "      <td>...</td>\n",
       "      <td>...</td>\n",
       "      <td>...</td>\n",
       "      <td>...</td>\n",
       "      <td>...</td>\n",
       "      <td>...</td>\n",
       "      <td>...</td>\n",
       "      <td>...</td>\n",
       "      <td>...</td>\n",
       "      <td>...</td>\n",
       "      <td>...</td>\n",
       "    </tr>\n",
       "    <tr>\n",
       "      <th>5522</th>\n",
       "      <td>4</td>\n",
       "      <td>3.00</td>\n",
       "      <td>3990</td>\n",
       "      <td>7838</td>\n",
       "      <td>2.0</td>\n",
       "      <td>0</td>\n",
       "      <td>0</td>\n",
       "      <td>3</td>\n",
       "      <td>9</td>\n",
       "      <td>3990</td>\n",
       "      <td>0</td>\n",
       "      <td>2003</td>\n",
       "      <td>0</td>\n",
       "      <td>47.6857</td>\n",
       "      <td>-122.046</td>\n",
       "      <td>3370</td>\n",
       "      <td>6814</td>\n",
       "    </tr>\n",
       "    <tr>\n",
       "      <th>5523</th>\n",
       "      <td>3</td>\n",
       "      <td>2.50</td>\n",
       "      <td>1425</td>\n",
       "      <td>1179</td>\n",
       "      <td>3.0</td>\n",
       "      <td>0</td>\n",
       "      <td>0</td>\n",
       "      <td>3</td>\n",
       "      <td>8</td>\n",
       "      <td>1425</td>\n",
       "      <td>0</td>\n",
       "      <td>2008</td>\n",
       "      <td>0</td>\n",
       "      <td>47.6963</td>\n",
       "      <td>-122.318</td>\n",
       "      <td>1285</td>\n",
       "      <td>1253</td>\n",
       "    </tr>\n",
       "    <tr>\n",
       "      <th>5524</th>\n",
       "      <td>3</td>\n",
       "      <td>2.50</td>\n",
       "      <td>2270</td>\n",
       "      <td>5536</td>\n",
       "      <td>2.0</td>\n",
       "      <td>0</td>\n",
       "      <td>0</td>\n",
       "      <td>3</td>\n",
       "      <td>8</td>\n",
       "      <td>2270</td>\n",
       "      <td>0</td>\n",
       "      <td>2003</td>\n",
       "      <td>0</td>\n",
       "      <td>47.5389</td>\n",
       "      <td>-121.881</td>\n",
       "      <td>2270</td>\n",
       "      <td>5731</td>\n",
       "    </tr>\n",
       "    <tr>\n",
       "      <th>5525</th>\n",
       "      <td>4</td>\n",
       "      <td>2.50</td>\n",
       "      <td>2520</td>\n",
       "      <td>6023</td>\n",
       "      <td>2.0</td>\n",
       "      <td>0</td>\n",
       "      <td>0</td>\n",
       "      <td>3</td>\n",
       "      <td>9</td>\n",
       "      <td>2520</td>\n",
       "      <td>0</td>\n",
       "      <td>2014</td>\n",
       "      <td>0</td>\n",
       "      <td>47.5137</td>\n",
       "      <td>-122.167</td>\n",
       "      <td>2520</td>\n",
       "      <td>6023</td>\n",
       "    </tr>\n",
       "    <tr>\n",
       "      <th>5526</th>\n",
       "      <td>3</td>\n",
       "      <td>2.50</td>\n",
       "      <td>1530</td>\n",
       "      <td>1131</td>\n",
       "      <td>3.0</td>\n",
       "      <td>0</td>\n",
       "      <td>0</td>\n",
       "      <td>3</td>\n",
       "      <td>8</td>\n",
       "      <td>1530</td>\n",
       "      <td>0</td>\n",
       "      <td>2009</td>\n",
       "      <td>0</td>\n",
       "      <td>47.6993</td>\n",
       "      <td>-122.346</td>\n",
       "      <td>1530</td>\n",
       "      <td>1509</td>\n",
       "    </tr>\n",
       "  </tbody>\n",
       "</table>\n",
       "<p>5527 rows × 17 columns</p>\n",
       "</div>"
      ],
      "text/plain": [
       "      bedrooms  bathrooms  sqft_living  sqft_lot  floors  waterfront  view  \\\n",
       "0            3       1.00         1180      5650     1.0           0     0   \n",
       "1            3       2.25         2570      7242     2.0           0     0   \n",
       "2            2       1.00          770     10000     1.0           0     0   \n",
       "3            4       3.00         1960      5000     1.0           0     0   \n",
       "4            3       2.00         1680      8080     1.0           0     0   \n",
       "...        ...        ...          ...       ...     ...         ...   ...   \n",
       "5522         4       3.00         3990      7838     2.0           0     0   \n",
       "5523         3       2.50         1425      1179     3.0           0     0   \n",
       "5524         3       2.50         2270      5536     2.0           0     0   \n",
       "5525         4       2.50         2520      6023     2.0           0     0   \n",
       "5526         3       2.50         1530      1131     3.0           0     0   \n",
       "\n",
       "      condition  grade  sqft_above  sqft_basement  yr_built  yr_renovated  \\\n",
       "0             3      7        1180              0      1955             0   \n",
       "1             3      7        2170            400      1951          1991   \n",
       "2             3      6         770              0      1933             0   \n",
       "3             5      7        1050            910      1965             0   \n",
       "4             3      8        1680              0      1987             0   \n",
       "...         ...    ...         ...            ...       ...           ...   \n",
       "5522          3      9        3990              0      2003             0   \n",
       "5523          3      8        1425              0      2008             0   \n",
       "5524          3      8        2270              0      2003             0   \n",
       "5525          3      9        2520              0      2014             0   \n",
       "5526          3      8        1530              0      2009             0   \n",
       "\n",
       "          lat     long  sqft_living15  sqft_lot15  \n",
       "0     47.5112 -122.257           1340        5650  \n",
       "1     47.7210 -122.319           1690        7639  \n",
       "2     47.7379 -122.233           2720        8062  \n",
       "3     47.5208 -122.393           1360        5000  \n",
       "4     47.6168 -122.045           1800        7503  \n",
       "...       ...      ...            ...         ...  \n",
       "5522  47.6857 -122.046           3370        6814  \n",
       "5523  47.6963 -122.318           1285        1253  \n",
       "5524  47.5389 -121.881           2270        5731  \n",
       "5525  47.5137 -122.167           2520        6023  \n",
       "5526  47.6993 -122.346           1530        1509  \n",
       "\n",
       "[5527 rows x 17 columns]"
      ]
     },
     "execution_count": 102,
     "metadata": {},
     "output_type": "execute_result"
    }
   ],
   "source": [
    "features_train"
   ]
  },
  {
   "cell_type": "code",
   "execution_count": 103,
   "metadata": {},
   "outputs": [],
   "source": [
    "def normalize_features(features_matrix):\n",
    "    norms = np.linalg.norm(features_matrix, axis=0)\n",
    "    normalized_features = features_matrix / norms\n",
    "    return (normalized_features, norms)"
   ]
  },
  {
   "cell_type": "code",
   "execution_count": 104,
   "metadata": {},
   "outputs": [],
   "source": [
    "norm_features_train,norms=normalize_features(features_train)"
   ]
  },
  {
   "cell_type": "code",
   "execution_count": null,
   "metadata": {},
   "outputs": [],
   "source": []
  },
  {
   "cell_type": "code",
   "execution_count": 105,
   "metadata": {},
   "outputs": [],
   "source": [
    "norm_features_test=features_test/norms\n",
    "norm_features_valid=features_valid/norms"
   ]
  },
  {
   "cell_type": "code",
   "execution_count": 106,
   "metadata": {},
   "outputs": [
    {
     "data": {
      "text/html": [
       "<div>\n",
       "<style scoped>\n",
       "    .dataframe tbody tr th:only-of-type {\n",
       "        vertical-align: middle;\n",
       "    }\n",
       "\n",
       "    .dataframe tbody tr th {\n",
       "        vertical-align: top;\n",
       "    }\n",
       "\n",
       "    .dataframe thead th {\n",
       "        text-align: right;\n",
       "    }\n",
       "</style>\n",
       "<table border=\"1\" class=\"dataframe\">\n",
       "  <thead>\n",
       "    <tr style=\"text-align: right;\">\n",
       "      <th></th>\n",
       "      <th>bedrooms</th>\n",
       "      <th>bathrooms</th>\n",
       "      <th>sqft_living</th>\n",
       "      <th>sqft_lot</th>\n",
       "      <th>floors</th>\n",
       "      <th>waterfront</th>\n",
       "      <th>view</th>\n",
       "      <th>condition</th>\n",
       "      <th>grade</th>\n",
       "      <th>sqft_above</th>\n",
       "      <th>sqft_basement</th>\n",
       "      <th>yr_built</th>\n",
       "      <th>yr_renovated</th>\n",
       "      <th>lat</th>\n",
       "      <th>long</th>\n",
       "      <th>sqft_living15</th>\n",
       "      <th>sqft_lot15</th>\n",
       "    </tr>\n",
       "  </thead>\n",
       "  <tbody>\n",
       "    <tr>\n",
       "      <th>0</th>\n",
       "      <td>0.015513</td>\n",
       "      <td>0.018075</td>\n",
       "      <td>0.017592</td>\n",
       "      <td>0.001605</td>\n",
       "      <td>0.017059</td>\n",
       "      <td>0.0</td>\n",
       "      <td>0.051024</td>\n",
       "      <td>0.011632</td>\n",
       "      <td>0.015644</td>\n",
       "      <td>0.013621</td>\n",
       "      <td>0.024817</td>\n",
       "      <td>0.013503</td>\n",
       "      <td>0.0</td>\n",
       "      <td>0.013454</td>\n",
       "      <td>-0.013469</td>\n",
       "      <td>0.013759</td>\n",
       "      <td>0.001623</td>\n",
       "    </tr>\n",
       "    <tr>\n",
       "      <th>1</th>\n",
       "      <td>0.015513</td>\n",
       "      <td>0.006025</td>\n",
       "      <td>0.009541</td>\n",
       "      <td>0.001380</td>\n",
       "      <td>0.012794</td>\n",
       "      <td>0.0</td>\n",
       "      <td>0.000000</td>\n",
       "      <td>0.015509</td>\n",
       "      <td>0.012167</td>\n",
       "      <td>0.011007</td>\n",
       "      <td>0.000000</td>\n",
       "      <td>0.013073</td>\n",
       "      <td>0.0</td>\n",
       "      <td>0.013480</td>\n",
       "      <td>-0.013466</td>\n",
       "      <td>0.010352</td>\n",
       "      <td>0.001744</td>\n",
       "    </tr>\n",
       "    <tr>\n",
       "      <th>2</th>\n",
       "      <td>0.011635</td>\n",
       "      <td>0.010544</td>\n",
       "      <td>0.009064</td>\n",
       "      <td>0.002048</td>\n",
       "      <td>0.008530</td>\n",
       "      <td>0.0</td>\n",
       "      <td>0.000000</td>\n",
       "      <td>0.011632</td>\n",
       "      <td>0.012167</td>\n",
       "      <td>0.005435</td>\n",
       "      <td>0.018677</td>\n",
       "      <td>0.013292</td>\n",
       "      <td>0.0</td>\n",
       "      <td>0.013489</td>\n",
       "      <td>-0.013461</td>\n",
       "      <td>0.009773</td>\n",
       "      <td>0.002529</td>\n",
       "    </tr>\n",
       "    <tr>\n",
       "      <th>3</th>\n",
       "      <td>0.011635</td>\n",
       "      <td>0.006025</td>\n",
       "      <td>0.006500</td>\n",
       "      <td>0.000963</td>\n",
       "      <td>0.012794</td>\n",
       "      <td>0.0</td>\n",
       "      <td>0.000000</td>\n",
       "      <td>0.015509</td>\n",
       "      <td>0.013905</td>\n",
       "      <td>0.007498</td>\n",
       "      <td>0.000000</td>\n",
       "      <td>0.013162</td>\n",
       "      <td>0.0</td>\n",
       "      <td>0.013487</td>\n",
       "      <td>-0.013469</td>\n",
       "      <td>0.010094</td>\n",
       "      <td>0.002061</td>\n",
       "    </tr>\n",
       "    <tr>\n",
       "      <th>4</th>\n",
       "      <td>0.015513</td>\n",
       "      <td>0.015062</td>\n",
       "      <td>0.013656</td>\n",
       "      <td>0.004307</td>\n",
       "      <td>0.017059</td>\n",
       "      <td>0.0</td>\n",
       "      <td>0.000000</td>\n",
       "      <td>0.015509</td>\n",
       "      <td>0.015644</td>\n",
       "      <td>0.015753</td>\n",
       "      <td>0.000000</td>\n",
       "      <td>0.013517</td>\n",
       "      <td>0.0</td>\n",
       "      <td>0.013467</td>\n",
       "      <td>-0.013445</td>\n",
       "      <td>0.017231</td>\n",
       "      <td>0.005551</td>\n",
       "    </tr>\n",
       "    <tr>\n",
       "      <th>...</th>\n",
       "      <td>...</td>\n",
       "      <td>...</td>\n",
       "      <td>...</td>\n",
       "      <td>...</td>\n",
       "      <td>...</td>\n",
       "      <td>...</td>\n",
       "      <td>...</td>\n",
       "      <td>...</td>\n",
       "      <td>...</td>\n",
       "      <td>...</td>\n",
       "      <td>...</td>\n",
       "      <td>...</td>\n",
       "      <td>...</td>\n",
       "      <td>...</td>\n",
       "      <td>...</td>\n",
       "      <td>...</td>\n",
       "      <td>...</td>\n",
       "    </tr>\n",
       "    <tr>\n",
       "      <th>1736</th>\n",
       "      <td>0.011635</td>\n",
       "      <td>0.019581</td>\n",
       "      <td>0.008230</td>\n",
       "      <td>0.000360</td>\n",
       "      <td>0.025589</td>\n",
       "      <td>0.0</td>\n",
       "      <td>0.000000</td>\n",
       "      <td>0.011632</td>\n",
       "      <td>0.013905</td>\n",
       "      <td>0.009493</td>\n",
       "      <td>0.000000</td>\n",
       "      <td>0.013701</td>\n",
       "      <td>0.0</td>\n",
       "      <td>0.013479</td>\n",
       "      <td>-0.013466</td>\n",
       "      <td>0.008423</td>\n",
       "      <td>0.000570</td>\n",
       "    </tr>\n",
       "    <tr>\n",
       "      <th>1737</th>\n",
       "      <td>0.015513</td>\n",
       "      <td>0.021087</td>\n",
       "      <td>0.025643</td>\n",
       "      <td>0.034950</td>\n",
       "      <td>0.017059</td>\n",
       "      <td>0.0</td>\n",
       "      <td>0.000000</td>\n",
       "      <td>0.011632</td>\n",
       "      <td>0.019120</td>\n",
       "      <td>0.029581</td>\n",
       "      <td>0.000000</td>\n",
       "      <td>0.013742</td>\n",
       "      <td>0.0</td>\n",
       "      <td>0.013469</td>\n",
       "      <td>-0.013428</td>\n",
       "      <td>0.029897</td>\n",
       "      <td>0.043604</td>\n",
       "    </tr>\n",
       "    <tr>\n",
       "      <th>1738</th>\n",
       "      <td>0.007756</td>\n",
       "      <td>0.013556</td>\n",
       "      <td>0.006977</td>\n",
       "      <td>0.000325</td>\n",
       "      <td>0.017059</td>\n",
       "      <td>0.0</td>\n",
       "      <td>0.000000</td>\n",
       "      <td>0.011632</td>\n",
       "      <td>0.012167</td>\n",
       "      <td>0.008049</td>\n",
       "      <td>0.000000</td>\n",
       "      <td>0.013708</td>\n",
       "      <td>0.0</td>\n",
       "      <td>0.013443</td>\n",
       "      <td>-0.013436</td>\n",
       "      <td>0.007973</td>\n",
       "      <td>0.000304</td>\n",
       "    </tr>\n",
       "    <tr>\n",
       "      <th>1739</th>\n",
       "      <td>0.015513</td>\n",
       "      <td>0.021087</td>\n",
       "      <td>0.016996</td>\n",
       "      <td>0.001790</td>\n",
       "      <td>0.017059</td>\n",
       "      <td>0.0</td>\n",
       "      <td>0.000000</td>\n",
       "      <td>0.011632</td>\n",
       "      <td>0.013905</td>\n",
       "      <td>0.013414</td>\n",
       "      <td>0.023026</td>\n",
       "      <td>0.013742</td>\n",
       "      <td>0.0</td>\n",
       "      <td>0.013441</td>\n",
       "      <td>-0.013449</td>\n",
       "      <td>0.018324</td>\n",
       "      <td>0.002315</td>\n",
       "    </tr>\n",
       "    <tr>\n",
       "      <th>1740</th>\n",
       "      <td>0.011635</td>\n",
       "      <td>0.010544</td>\n",
       "      <td>0.008945</td>\n",
       "      <td>0.003842</td>\n",
       "      <td>0.008530</td>\n",
       "      <td>0.0</td>\n",
       "      <td>0.000000</td>\n",
       "      <td>0.011632</td>\n",
       "      <td>0.010429</td>\n",
       "      <td>0.010319</td>\n",
       "      <td>0.000000</td>\n",
       "      <td>0.013742</td>\n",
       "      <td>0.0</td>\n",
       "      <td>0.013380</td>\n",
       "      <td>-0.013428</td>\n",
       "      <td>0.008487</td>\n",
       "      <td>0.004585</td>\n",
       "    </tr>\n",
       "  </tbody>\n",
       "</table>\n",
       "<p>1741 rows × 17 columns</p>\n",
       "</div>"
      ],
      "text/plain": [
       "      bedrooms  bathrooms  sqft_living  sqft_lot    floors  waterfront  \\\n",
       "0     0.015513   0.018075     0.017592  0.001605  0.017059         0.0   \n",
       "1     0.015513   0.006025     0.009541  0.001380  0.012794         0.0   \n",
       "2     0.011635   0.010544     0.009064  0.002048  0.008530         0.0   \n",
       "3     0.011635   0.006025     0.006500  0.000963  0.012794         0.0   \n",
       "4     0.015513   0.015062     0.013656  0.004307  0.017059         0.0   \n",
       "...        ...        ...          ...       ...       ...         ...   \n",
       "1736  0.011635   0.019581     0.008230  0.000360  0.025589         0.0   \n",
       "1737  0.015513   0.021087     0.025643  0.034950  0.017059         0.0   \n",
       "1738  0.007756   0.013556     0.006977  0.000325  0.017059         0.0   \n",
       "1739  0.015513   0.021087     0.016996  0.001790  0.017059         0.0   \n",
       "1740  0.011635   0.010544     0.008945  0.003842  0.008530         0.0   \n",
       "\n",
       "          view  condition     grade  sqft_above  sqft_basement  yr_built  \\\n",
       "0     0.051024   0.011632  0.015644    0.013621       0.024817  0.013503   \n",
       "1     0.000000   0.015509  0.012167    0.011007       0.000000  0.013073   \n",
       "2     0.000000   0.011632  0.012167    0.005435       0.018677  0.013292   \n",
       "3     0.000000   0.015509  0.013905    0.007498       0.000000  0.013162   \n",
       "4     0.000000   0.015509  0.015644    0.015753       0.000000  0.013517   \n",
       "...        ...        ...       ...         ...            ...       ...   \n",
       "1736  0.000000   0.011632  0.013905    0.009493       0.000000  0.013701   \n",
       "1737  0.000000   0.011632  0.019120    0.029581       0.000000  0.013742   \n",
       "1738  0.000000   0.011632  0.012167    0.008049       0.000000  0.013708   \n",
       "1739  0.000000   0.011632  0.013905    0.013414       0.023026  0.013742   \n",
       "1740  0.000000   0.011632  0.010429    0.010319       0.000000  0.013742   \n",
       "\n",
       "      yr_renovated       lat      long  sqft_living15  sqft_lot15  \n",
       "0              0.0  0.013454 -0.013469       0.013759    0.001623  \n",
       "1              0.0  0.013480 -0.013466       0.010352    0.001744  \n",
       "2              0.0  0.013489 -0.013461       0.009773    0.002529  \n",
       "3              0.0  0.013487 -0.013469       0.010094    0.002061  \n",
       "4              0.0  0.013467 -0.013445       0.017231    0.005551  \n",
       "...            ...       ...       ...            ...         ...  \n",
       "1736           0.0  0.013479 -0.013466       0.008423    0.000570  \n",
       "1737           0.0  0.013469 -0.013428       0.029897    0.043604  \n",
       "1738           0.0  0.013443 -0.013436       0.007973    0.000304  \n",
       "1739           0.0  0.013441 -0.013449       0.018324    0.002315  \n",
       "1740           0.0  0.013380 -0.013428       0.008487    0.004585  \n",
       "\n",
       "[1741 rows x 17 columns]"
      ]
     },
     "execution_count": 106,
     "metadata": {},
     "output_type": "execute_result"
    }
   ],
   "source": [
    "norm_features_test"
   ]
  },
  {
   "cell_type": "code",
   "execution_count": 107,
   "metadata": {},
   "outputs": [
    {
     "data": {
      "text/plain": [
       "array([ 0.01551285,  0.01807473,  0.01759212,  0.00160518,  0.017059  ,\n",
       "        0.        ,  0.05102365,  0.0116321 ,  0.01564352,  0.01362084,\n",
       "        0.02481682,  0.01350306,  0.        ,  0.01345387, -0.01346922,\n",
       "        0.01375926,  0.0016225 ])"
      ]
     },
     "execution_count": 107,
     "metadata": {},
     "output_type": "execute_result"
    }
   ],
   "source": [
    "norm_features_test.values[0]"
   ]
  },
  {
   "cell_type": "code",
   "execution_count": 108,
   "metadata": {},
   "outputs": [],
   "source": [
    "def dist(actual,query):\n",
    "    return np.sqrt(np.sum((actual-query)**2))#vectorization"
   ]
  },
  {
   "cell_type": "code",
   "execution_count": 109,
   "metadata": {},
   "outputs": [
    {
     "data": {
      "text/plain": [
       "0.05972359371398078"
      ]
     },
     "execution_count": 109,
     "metadata": {},
     "output_type": "execute_result"
    }
   ],
   "source": [
    "dist(norm_features_train.values[9],norm_features_test.values[0])"
   ]
  },
  {
   "cell_type": "code",
   "execution_count": 110,
   "metadata": {},
   "outputs": [],
   "source": [
    "#0.059723593716661257"
   ]
  },
  {
   "cell_type": "code",
   "execution_count": 111,
   "metadata": {},
   "outputs": [],
   "source": [
    "#print('I have %d %s' % (a, b))"
   ]
  },
  {
   "cell_type": "code",
   "execution_count": 112,
   "metadata": {},
   "outputs": [
    {
     "name": "stdout",
     "output_type": "stream",
     "text": [
      "Distance between test[0] and train[0] is 0.06027470916295592\n",
      "Distance between test[0] and train[1] is 0.08546881147643746\n",
      "Distance between test[0] and train[2] is 0.06149946435279315\n",
      "Distance between test[0] and train[3] is 0.05340273979294363\n",
      "Distance between test[0] and train[4] is 0.05844484060170442\n",
      "Distance between test[0] and train[5] is 0.059879215098128345\n",
      "Distance between test[0] and train[6] is 0.0546314049677546\n",
      "Distance between test[0] and train[7] is 0.05543108323614607\n",
      "Distance between test[0] and train[8] is 0.052383627840220305\n",
      "Distance between test[0] and train[9] is 0.05972359371398078\n"
     ]
    }
   ],
   "source": [
    "dic={}\n",
    "for i in range(10):\n",
    "    distance=dist(norm_features_train.values[i],norm_features_test.values[0])\n",
    "    dic[i]=distance\n",
    "    print(f\"Distance between test[0] and train[{i}] is \"+str(distance))"
   ]
  },
  {
   "cell_type": "code",
   "execution_count": 113,
   "metadata": {},
   "outputs": [
    {
     "data": {
      "text/plain": [
       "{0: 0.06027470916295592,\n",
       " 1: 0.08546881147643746,\n",
       " 2: 0.06149946435279315,\n",
       " 3: 0.05340273979294363,\n",
       " 4: 0.05844484060170442,\n",
       " 5: 0.059879215098128345,\n",
       " 6: 0.0546314049677546,\n",
       " 7: 0.05543108323614607,\n",
       " 8: 0.052383627840220305,\n",
       " 9: 0.05972359371398078}"
      ]
     },
     "execution_count": 113,
     "metadata": {},
     "output_type": "execute_result"
    }
   ],
   "source": [
    "dic"
   ]
  },
  {
   "cell_type": "code",
   "execution_count": 114,
   "metadata": {},
   "outputs": [],
   "source": [
    "sorted_dic={k: v for k, v in sorted(dic.items(), key=lambda item: item[1])}"
   ]
  },
  {
   "cell_type": "code",
   "execution_count": 115,
   "metadata": {},
   "outputs": [
    {
     "data": {
      "text/plain": [
       "{8: 0.052383627840220305,\n",
       " 3: 0.05340273979294363,\n",
       " 6: 0.0546314049677546,\n",
       " 7: 0.05543108323614607,\n",
       " 4: 0.05844484060170442,\n",
       " 9: 0.05972359371398078,\n",
       " 5: 0.059879215098128345,\n",
       " 0: 0.06027470916295592,\n",
       " 2: 0.06149946435279315,\n",
       " 1: 0.08546881147643746}"
      ]
     },
     "execution_count": 115,
     "metadata": {},
     "output_type": "execute_result"
    }
   ],
   "source": [
    "sorted_dic"
   ]
  },
  {
   "cell_type": "code",
   "execution_count": 116,
   "metadata": {},
   "outputs": [
    {
     "data": {
      "text/plain": [
       "0.052383627840220305"
      ]
     },
     "execution_count": 116,
     "metadata": {},
     "output_type": "execute_result"
    }
   ],
   "source": [
    "sorted_dic[8]\n",
    "#index 8 is lowest, so 9th house is the closest to the query"
   ]
  },
  {
   "cell_type": "code",
   "execution_count": 117,
   "metadata": {},
   "outputs": [],
   "source": [
    "diff=norm_features_train.values-norm_features_test.values[0]"
   ]
  },
  {
   "cell_type": "code",
   "execution_count": 118,
   "metadata": {},
   "outputs": [
    {
     "data": {
      "text/plain": [
       "-0.09343399874654643"
      ]
     },
     "execution_count": 118,
     "metadata": {},
     "output_type": "execute_result"
    }
   ],
   "source": [
    "diff[-1].sum()\n",
    "# -0.0934339605842"
   ]
  },
  {
   "cell_type": "code",
   "execution_count": 119,
   "metadata": {},
   "outputs": [
    {
     "data": {
      "text/plain": [
       "array([0.00363304, 0.00730492, 0.00378218, ..., 0.0032681 , 0.00325555,\n",
       "       0.00341846])"
      ]
     },
     "execution_count": 119,
     "metadata": {},
     "output_type": "execute_result"
    }
   ],
   "source": [
    "np.sum(diff**2,axis=1)"
   ]
  },
  {
   "cell_type": "code",
   "execution_count": 120,
   "metadata": {},
   "outputs": [],
   "source": [
    "dist_vect = lambda x, y : np.sqrt(np.sum((x-y)**2, axis=1))"
   ]
  },
  {
   "cell_type": "code",
   "execution_count": 121,
   "metadata": {},
   "outputs": [],
   "source": [
    "def compute_distances(features_instances, features_query):\n",
    "    distances=dist_vect(features_instances,features_query)\n",
    "    return distances"
   ]
  },
  {
   "cell_type": "code",
   "execution_count": 122,
   "metadata": {},
   "outputs": [],
   "source": [
    "distances=compute_distances(norm_features_train.values,norm_features_test.values[0])"
   ]
  },
  {
   "cell_type": "code",
   "execution_count": 123,
   "metadata": {},
   "outputs": [
    {
     "data": {
      "text/plain": [
       "0.023708232416678195"
      ]
     },
     "execution_count": 123,
     "metadata": {},
     "output_type": "execute_result"
    }
   ],
   "source": [
    "distances[100]\n",
    "#dist b/w query[0] and training[100] should be 0.0237082324496"
   ]
  },
  {
   "cell_type": "markdown",
   "metadata": {},
   "source": [
    "16. Quiz Question: Take the query house to be third house of the test set (features_test[2]).  What is the index of the house in the training set that is closest to this query house?"
   ]
  },
  {
   "cell_type": "code",
   "execution_count": 124,
   "metadata": {},
   "outputs": [],
   "source": [
    "distances=compute_distances(norm_features_train.values,norm_features_test.values[2])"
   ]
  },
  {
   "cell_type": "code",
   "execution_count": 125,
   "metadata": {},
   "outputs": [
    {
     "data": {
      "text/plain": [
       "382"
      ]
     },
     "execution_count": 125,
     "metadata": {},
     "output_type": "execute_result"
    }
   ],
   "source": [
    "min_index=distances.argmin()#find minimum value index\n",
    "min_index"
   ]
  },
  {
   "cell_type": "markdown",
   "metadata": {},
   "source": [
    "What is the predicted value of the query house based on 1-nearest neighbor regression? ###### 249000"
   ]
  },
  {
   "cell_type": "code",
   "execution_count": 126,
   "metadata": {},
   "outputs": [
    {
     "name": "stdout",
     "output_type": "stream",
     "text": [
      "[ 0.01163464  0.00903736  0.01013783  0.00264759  0.0085295   0.\n",
      "  0.          0.0116321   0.01216718  0.006948    0.0176532   0.01344165\n",
      "  0.          0.01341151 -0.0134471   0.00925857  0.00340725]\n"
     ]
    }
   ],
   "source": [
    "print(norm_features_train.values[min_index])#features"
   ]
  },
  {
   "cell_type": "code",
   "execution_count": 127,
   "metadata": {},
   "outputs": [
    {
     "name": "stdout",
     "output_type": "stream",
     "text": [
      "[249000]\n"
     ]
    }
   ],
   "source": [
    "print(output_train.values[min_index])#predicted value"
   ]
  },
  {
   "cell_type": "code",
   "execution_count": 128,
   "metadata": {},
   "outputs": [
    {
     "data": {
      "text/plain": [
       "array([ 382, 1149, 4087, ..., 1107, 5226, 2486])"
      ]
     },
     "execution_count": 128,
     "metadata": {},
     "output_type": "execute_result"
    }
   ],
   "source": [
    "np.argsort(distances)# return indices of the minimum value"
   ]
  },
  {
   "cell_type": "code",
   "execution_count": 129,
   "metadata": {},
   "outputs": [],
   "source": [
    "#returns the indices of the k closest training houses.\n",
    "def k_nearest_neighbors(k, feature_train, features_query):\n",
    "    distances=compute_distances(feature_train,features_query)\n",
    "    neighbors_indices=np.argsort(distances)[:k].tolist()\n",
    "    return neighbors_indices"
   ]
  },
  {
   "cell_type": "markdown",
   "metadata": {},
   "source": [
    "Quiz Question: Take the query house to be third house of the test set (features_test[2]).  What are the indices of the 4 training houses closest to the query house?\n",
    "\n"
   ]
  },
  {
   "cell_type": "code",
   "execution_count": 130,
   "metadata": {},
   "outputs": [
    {
     "data": {
      "text/plain": [
       "[382, 1149, 4087, 3142]"
      ]
     },
     "execution_count": 130,
     "metadata": {},
     "output_type": "execute_result"
    }
   ],
   "source": [
    "indices=k_nearest_neighbors(4,norm_features_train.values,norm_features_test.values[2])\n",
    "indices"
   ]
  },
  {
   "cell_type": "code",
   "execution_count": 131,
   "metadata": {},
   "outputs": [],
   "source": [
    "def predict_output_of_query(k, features_train, output_train, features_query):\n",
    "    indices=k_nearest_neighbors(k,features_train,features_query)\n",
    "    predict_values=output_train[indices].flatten()\n",
    "    prediction=sum(predict_values)/len(predict_values)\n",
    "    return prediction"
   ]
  },
  {
   "cell_type": "code",
   "execution_count": 135,
   "metadata": {},
   "outputs": [
    {
     "data": {
      "text/plain": [
       "413987.5"
      ]
     },
     "execution_count": 135,
     "metadata": {},
     "output_type": "execute_result"
    }
   ],
   "source": [
    "predict_output_of_query(4,norm_features_train.values,output_train.values,norm_features_test.values[2])\n",
    "# output should be 413987.5"
   ]
  },
  {
   "cell_type": "markdown",
   "metadata": {},
   "source": [
    "The function should return a set of predicted values, one for each house in the query set."
   ]
  },
  {
   "cell_type": "code",
   "execution_count": 146,
   "metadata": {},
   "outputs": [],
   "source": [
    "def predict_output(k, features_train, output_train, features_query):\n",
    "    predictions=[]\n",
    "    for query in features_query:\n",
    "        predictions.append(predict_output_of_query(k,features_train,output_train,query))\n",
    "    return predictions"
   ]
  },
  {
   "cell_type": "code",
   "execution_count": 150,
   "metadata": {},
   "outputs": [],
   "source": [
    "predicted_queries=predict_output(10,norm_features_train.values,output_train.values,norm_features_test.values)"
   ]
  },
  {
   "cell_type": "markdown",
   "metadata": {},
   "source": [
    "#output should be \n",
    "[ 881300.   431860.   460595.   430200.   766750.   667420.   350032.\n",
    "  512800.7  484000.   457235. ]\n",
    "k=10"
   ]
  },
  {
   "cell_type": "code",
   "execution_count": 153,
   "metadata": {},
   "outputs": [
    {
     "data": {
      "text/plain": [
       "[881300.0,\n",
       " 431860.0,\n",
       " 460595.0,\n",
       " 430200.0,\n",
       " 766750.0,\n",
       " 667420.0,\n",
       " 350032.0,\n",
       " 512800.7,\n",
       " 484000.0,\n",
       " 457235.0]"
      ]
     },
     "execution_count": 153,
     "metadata": {},
     "output_type": "execute_result"
    }
   ],
   "source": [
    "predicted_queries[:10]"
   ]
  },
  {
   "cell_type": "markdown",
   "metadata": {},
   "source": [
    "Choosing the best value of K."
   ]
  },
  {
   "cell_type": "code",
   "execution_count": 165,
   "metadata": {},
   "outputs": [],
   "source": [
    "rss_list=[]\n",
    "for k in range(1,16):\n",
    "    predicted_queries=predict_output(k,norm_features_train.values,output_train.values,norm_features_valid.values)\n",
    "    rss = np.sum(np.square(output_valid.values-predicted_queries))\n",
    "    rss_list.append(rss)\n",
    "    "
   ]
  },
  {
   "cell_type": "code",
   "execution_count": null,
   "metadata": {},
   "outputs": [],
   "source": []
  },
  {
   "cell_type": "code",
   "execution_count": 166,
   "metadata": {},
   "outputs": [
    {
     "data": {
      "text/plain": [
       "15"
      ]
     },
     "execution_count": 166,
     "metadata": {},
     "output_type": "execute_result"
    }
   ],
   "source": [
    "len(rss_list)"
   ]
  },
  {
   "cell_type": "code",
   "execution_count": 167,
   "metadata": {},
   "outputs": [
    {
     "data": {
      "text/plain": [
       "[<matplotlib.lines.Line2D at 0x7f9231e44550>]"
      ]
     },
     "execution_count": 167,
     "metadata": {},
     "output_type": "execute_result"
    },
    {
     "data": {
      "image/png": "[encoded data removed]",
      "text/plain": [
       "<Figure size 432x288 with 1 Axes>"
      ]
     },
     "metadata": {
      "needs_background": "light"
     },
     "output_type": "display_data"
    }
   ],
   "source": [
    "import matplotlib.pyplot as plt\n",
    "%matplotlib inline\n",
    "\n",
    "kvals = range(1, 16)\n",
    "plt.plot(kvals, rss_list,'bo-')"
   ]
  },
  {
   "cell_type": "code",
   "execution_count": 168,
   "metadata": {},
   "outputs": [],
   "source": [
    "#k=15 has the lowest RSS"
   ]
  },
  {
   "cell_type": "code",
   "execution_count": null,
   "metadata": {},
   "outputs": [],
   "source": []
  },
  {
   "cell_type": "code",
   "execution_count": null,
   "metadata": {},
   "outputs": [],
   "source": []
  },
  {
   "cell_type": "code",
   "execution_count": null,
   "metadata": {},
   "outputs": [],
   "source": []
  }
 ],
 "metadata": {
  "kernelspec": {
   "display_name": "ml",
   "language": "python",
   "name": "ml"
  },
  "language_info": {
   "codemirror_mode": {
    "name": "ipython",
    "version": 3
   },
   "file_extension": ".py",
   "mimetype": "text/x-python",
   "name": "python",
   "nbconvert_exporter": "python",
   "pygments_lexer": "ipython3",
   "version": "3.6.10"
  }
 },
 "nbformat": 4,
 "nbformat_minor": 4
}
